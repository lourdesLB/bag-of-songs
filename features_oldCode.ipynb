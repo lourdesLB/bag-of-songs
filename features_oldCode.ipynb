{
 "cells": [
  {
   "cell_type": "markdown",
   "metadata": {},
   "source": [
    "* Funciones auxiliares para la generación de características:"
   ]
  },
  {
   "cell_type": "code",
   "execution_count": null,
   "metadata": {},
   "outputs": [],
   "source": [
    "def amplitude_envelope(signal,frame_size=1024,hop_length=512):\n",
    "    F=frame_size\n",
    "    H=hop_length\n",
    "    N=signal.shape[0]\n",
    "    return np.array([max(signal[k:k+F]) for k in range(0, N, H)])\n",
    "\n",
    "\n",
    "\n",
    "def calculate_ber(signal, split_freq, sample_rate, frame_size=1024, hop_length=512):\n",
    "\n",
    "    spec = librosa.stft(signal, n_fft=frame_size, hop_length=hop_length)\n",
    "    range_of_freq = sample_rate / 2\n",
    "    change_per_bin = range_of_freq / spec.shape[0]\n",
    "    split_freq_bin = int(np.floor(split_freq / change_per_bin))\n",
    "\n",
    "    modified_spec = np.abs(spec).T\n",
    "    res = []\n",
    "    for sub_arr in modified_spec:\n",
    "        low_freq_density = sum(i ** 2 for i in sub_arr[:split_freq_bin])\n",
    "        high_freq_density = sum(i ** 2 for i in sub_arr[split_freq_bin:])\n",
    "        high_freq_density = high_freq_density if high_freq_density > 0 else 1e-10\n",
    "        ber_val = low_freq_density / high_freq_density\n",
    "        res.append(ber_val)\n",
    "    return np.array(res)"
   ]
  },
  {
   "cell_type": "markdown",
   "metadata": {},
   "source": [
    "* Función para la generación de las características:"
   ]
  },
  {
   "cell_type": "code",
   "execution_count": null,
   "metadata": {},
   "outputs": [],
   "source": [
    "def store_features(audio_data, audio_file, label_column, csv_file):\n",
    "\n",
    "    # Extraer la información del audio (array numpy, sample rate, label)\n",
    "    audio_array = audio_data[\"audio\"][\"array\"]\n",
    "    audio_sr = audio_data[\"audio\"][\"sampling_rate\"]\n",
    "    audio_label = audio_data[label_column]\n",
    "\n",
    "    # Extraer las características del audio \n",
    "\n",
    "    # Dominio temporal\n",
    "    envelope = amplitude_envelope(audio_array)\n",
    "    rms = librosa.feature.rms(y=audio_array)\n",
    "    zcr = librosa.feature.zero_crossing_rate(audio_array)\n",
    "\n",
    "    # Dominio frecuencial\n",
    "    # split_freq a 500 para separar graves de agudos\n",
    "    ber = calculate_ber(audio_array,500, audio_sr)\n",
    "    spec_cent = librosa.feature.spectral_centroid(y=audio_array, sr=audio_sr)\n",
    "    spec_bw = librosa.feature.spectral_bandwidth(y=audio_array, sr=audio_sr)\n",
    "\n",
    "    chroma_stft = librosa.feature.chroma_stft(y=audio_array, sr=audio_sr)\n",
    "    rolloff = librosa.feature.spectral_rolloff(y=audio_array, sr=audio_sr)\n",
    "    mfcc = librosa.feature.mfcc(y=audio_array, sr=audio_sr, n_mfcc=13)\n",
    "\n",
    "    # Generar fila para introducir en el CSV\n",
    "    row = f\"{audio_file},{audio_label},{np.mean(envelope)},{np.mean(rms)},{np.mean(zcr)},{np.mean(ber)},{np.mean(spec_cent)},{np.mean(spec_bw)},{np.mean(chroma_stft)},{np.mean(rolloff)}\"\n",
    "    for e in mfcc:\n",
    "        row += f\",{np.mean(e)}\"\n",
    "\n",
    "    # Escribir en el CSV\n",
    "    with open(csv_file, \"a\") as f:\n",
    "        f.write(row + \"\\n\")"
   ]
  },
  {
   "cell_type": "code",
   "execution_count": null,
   "metadata": {},
   "outputs": [],
   "source": [
    "def generate_corpus_files(corpus_data, label_column, label_mapper, corpus_folder):\n",
    "\n",
    "    # Crear directorio principal\n",
    "    os.makedirs(corpus_folder, exist_ok=True)\n",
    "\n",
    "    # Almacenar ficheros de cada partición\n",
    "    for partition in [\"train\", \"validation\", \"test\"]:\n",
    "\n",
    "        # Crear subdirectorios para almacenar los audios\n",
    "        os.makedirs(f\"{corpus_folder}/{partition}/audios\", exist_ok=True)\n",
    "\n",
    "        # Crear fichero de anotaciones\n",
    "        with open(f\"{corpus_folder}/{partition}/annotations.csv\", \"w\") as f:\n",
    "            f.write(\"audio_file,label_id,label_name\\n\")\n",
    "\n",
    "        # Crear fichero de características\n",
    "        with open(f\"{corpus_folder}/{partition}/features.csv\", \"w\") as f:\n",
    "            f.write(\n",
    "                \"audio_file,label,mean_envelope,mean_rms,mean_zcr,\"\n",
    "                \"mean_ber,mean_spec_cent,mean_spec_bw,mean_chroma_stft,mean_rolloff,\"\n",
    "                \"mean_mfcc1,mean_mfcc2,mean_mfcc3,mean_mfcc4,mean_mfcc5,mean_mfcc6,mean_mfcc7,\"\n",
    "                \"mean_mfcc8,mean_mfcc9,mean_mfcc10,mean_mfcc11,mean_mfcc12,mean_mfcc13\\n\"\n",
    "            )\n",
    "        \n",
    "        features_file = f\"{corpus_folder}/{partition}/features.csv\"\n",
    "        annotations_file = f\"{corpus_folder}/{partition}/annotations.csv\"\n",
    "        audios_dir = f\"{corpus_folder}/{partition}/audios\"\n",
    "\n",
    "        for i, audio_data in enumerate(corpus_data[partition]):\n",
    "            \n",
    "            audio_file = f\"{audios_dir}/audio_{partition}_{i}.wav\"\n",
    "\n",
    "            # Guardar características en fichero CSV\n",
    "            store_features(audio_data, audio_file, label_column, features_file)\n",
    "\n",
    "            # Guardar anotación en fichero CSV\n",
    "            store_annotation(audio_data, label_column, label_mapper, audio_file, annotations_file)\n",
    "            \n",
    "            # Guardar el audio en formato WAV\n",
    "            store_audio_file(audio_data, audio_file)"
   ]
  }
 ],
 "metadata": {
  "language_info": {
   "name": "python"
  }
 },
 "nbformat": 4,
 "nbformat_minor": 2
}

{
 "cells": [
  {
   "cell_type": "markdown",
   "metadata": {},
   "source": [
    "# Descarga y preparación del corpus de datos"
   ]
  },
  {
   "cell_type": "markdown",
   "metadata": {},
   "source": [
    "El objetivo de este primer notebook es realizar la carga del dataset utilizado, para su posterior estudio y entrenamiento mediante modelos de Machine Learning."
   ]
  },
  {
   "cell_type": "markdown",
   "metadata": {},
   "source": [
    "## Importaciones"
   ]
  },
  {
   "cell_type": "code",
   "execution_count": 1,
   "metadata": {},
   "outputs": [],
   "source": [
    "import librosa\n",
    "import wave\n",
    "\n",
    "import numpy as np\n",
    "import datasets\n",
    "\n",
    "from tqdm.auto import tqdm\n",
    "import os"
   ]
  },
  {
   "cell_type": "markdown",
   "metadata": {},
   "source": [
    "## Acceso al conjunto de datos de HuggingFace"
   ]
  },
  {
   "cell_type": "code",
   "execution_count": 2,
   "metadata": {},
   "outputs": [],
   "source": [
    "ccmusic_corpus = datasets.load_dataset(\"ccmusic-database/music_genre\", name=\"default\",trust_remote_code=True)"
   ]
  },
  {
   "cell_type": "code",
   "execution_count": 3,
   "metadata": {},
   "outputs": [
    {
     "name": "stdout",
     "output_type": "stream",
     "text": [
      "DatasetDict({\n",
      "    train: Dataset({\n",
      "        features: ['audio', 'mel', 'fst_level_label', 'sec_level_label', 'thr_level_label'],\n",
      "        num_rows: 1370\n",
      "    })\n",
      "    validation: Dataset({\n",
      "        features: ['audio', 'mel', 'fst_level_label', 'sec_level_label', 'thr_level_label'],\n",
      "        num_rows: 171\n",
      "    })\n",
      "    test: Dataset({\n",
      "        features: ['audio', 'mel', 'fst_level_label', 'sec_level_label', 'thr_level_label'],\n",
      "        num_rows: 172\n",
      "    })\n",
      "})\n"
     ]
    }
   ],
   "source": [
    "print(ccmusic_corpus)"
   ]
  },
  {
   "cell_type": "code",
   "execution_count": 4,
   "metadata": {},
   "outputs": [
    {
     "name": "stdout",
     "output_type": "stream",
     "text": [
      "{'audio': {'path': 'C:\\\\Users\\\\Usuario\\\\.cache\\\\huggingface\\\\datasets\\\\downloads\\\\extracted\\\\9978c1aa27e41c465d1a0a120f523eae02b367b680fff33f401cee81e10d28c4\\\\audio\\\\2_non-classic\\\\11_rock\\\\21_Soft Rock\\\\6573efb8158239c2015abeaea6bb8f65.mp3', 'array': array([0., 0., 0., ..., 0., 0., 0.]), 'sampling_rate': 22050}, 'mel': <PIL.JpegImagePlugin.JpegImageFile image mode=RGB size=496x369 at 0x1BD0F31CFE0>, 'fst_level_label': 1, 'sec_level_label': 8, 'thr_level_label': 14}\n"
     ]
    }
   ],
   "source": [
    "print(ccmusic_corpus['train'][0])"
   ]
  },
  {
   "cell_type": "markdown",
   "metadata": {},
   "source": [
    "## Generación de la estructura de directorios del corpus"
   ]
  },
  {
   "cell_type": "markdown",
   "metadata": {},
   "source": [
    "* Funciones auxiliares para la generación de características:"
   ]
  },
  {
   "cell_type": "code",
   "execution_count": 5,
   "metadata": {},
   "outputs": [],
   "source": [
    "def amplitude_envelope(signal,frame_size=1024,hop_length=512):\n",
    "    F=frame_size\n",
    "    H=hop_length\n",
    "    N=signal.shape[0]\n",
    "    return np.array([max(signal[k:k+F]) for k in range(0, N, H)])\n",
    "\n",
    "\n",
    "\n",
    "def calculate_ber(signal, split_freq, sample_rate, frame_size=1024, hop_length=512):\n",
    "\n",
    "    spec = librosa.stft(signal, n_fft=frame_size, hop_length=hop_length)\n",
    "    range_of_freq = sample_rate / 2\n",
    "    change_per_bin = range_of_freq / spec.shape[0]\n",
    "    split_freq_bin = int(np.floor(split_freq / change_per_bin))\n",
    "\n",
    "    modified_spec = np.abs(spec).T\n",
    "    res = []\n",
    "    for sub_arr in modified_spec:\n",
    "        low_freq_density = sum(i ** 2 for i in sub_arr[:split_freq_bin])\n",
    "        high_freq_density = sum(i ** 2 for i in sub_arr[split_freq_bin:])\n",
    "        high_freq_density = high_freq_density if high_freq_density > 0 else 1e-10\n",
    "        ber_val = low_freq_density / high_freq_density\n",
    "        res.append(ber_val)\n",
    "    return np.array(res)"
   ]
  },
  {
   "cell_type": "markdown",
   "metadata": {},
   "source": [
    "* Función para la generación de las características:"
   ]
  },
  {
   "cell_type": "code",
   "execution_count": 6,
   "metadata": {},
   "outputs": [],
   "source": [
    "def store_features(audio_data, audio_file, label_column, csv_file):\n",
    "\n",
    "    # Extraer la información del audio (array numpy, sample rate, label)\n",
    "    audio_array = audio_data[\"audio\"][\"array\"]\n",
    "    audio_sr = audio_data[\"audio\"][\"sampling_rate\"]\n",
    "    audio_label = audio_data[label_column]\n",
    "\n",
    "    # Extraer las características del audio \n",
    "\n",
    "    # Dominio temporal\n",
    "    envelope = amplitude_envelope(audio_array)\n",
    "    rms = librosa.feature.rms(y=audio_array)\n",
    "    zcr = librosa.feature.zero_crossing_rate(audio_array)\n",
    "\n",
    "    # Dominio frecuencial\n",
    "    # split_freq a 500 para separar graves de agudos\n",
    "    ber = calculate_ber(audio_array,500, audio_sr)\n",
    "    spec_cent = librosa.feature.spectral_centroid(y=audio_array, sr=audio_sr)\n",
    "    spec_bw = librosa.feature.spectral_bandwidth(y=audio_array, sr=audio_sr)\n",
    "\n",
    "    chroma_stft = librosa.feature.chroma_stft(y=audio_array, sr=audio_sr)\n",
    "    rolloff = librosa.feature.spectral_rolloff(y=audio_array, sr=audio_sr)\n",
    "    mfcc = librosa.feature.mfcc(y=audio_array, sr=audio_sr, n_mfcc=13)\n",
    "\n",
    "    # Generar fila para introducir en el CSV\n",
    "    row = f\"{audio_file},{audio_label},{np.mean(envelope)},{np.mean(rms)},{np.mean(zcr)},{np.mean(ber)},{np.mean(spec_cent)},{np.mean(spec_bw)},{np.mean(chroma_stft)},{np.mean(rolloff)}\"\n",
    "    for e in mfcc:\n",
    "        row += f\",{np.mean(e)}\"\n",
    "\n",
    "    # Escribir en el CSV\n",
    "    with open(csv_file, \"a\") as f:\n",
    "        f.write(row + \"\\n\")"
   ]
  },
  {
   "cell_type": "markdown",
   "metadata": {},
   "source": [
    "* Función para almacenar las anotaciones:"
   ]
  },
  {
   "cell_type": "code",
   "execution_count": 7,
   "metadata": {},
   "outputs": [],
   "source": [
    "def store_annotation(audio_data, label_column, label_mapper, audio_file, annotations_file):\n",
    "    label_id = audio_data[label_column]\n",
    "    label = label_mapper[label_id]\n",
    "    with open(annotations_file, \"a\") as f:\n",
    "        f.write(f\"{audio_file},{label_id},{label}\\n\")"
   ]
  },
  {
   "cell_type": "markdown",
   "metadata": {},
   "source": [
    "* Función para la generación del fichero wav:"
   ]
  },
  {
   "cell_type": "code",
   "execution_count": 8,
   "metadata": {},
   "outputs": [],
   "source": [
    "def store_audio_file(audio_data, audio_file):\n",
    "\n",
    "    audio_array = audio_data[\"audio\"][\"array\"]\n",
    "\n",
    "    ww_obj=wave.open(audio_file,'w')\n",
    "    ww_obj.setnchannels(1)\n",
    "    ww_obj.setsampwidth(2)\n",
    "    ww_obj.setframerate(22050)\n",
    "\n",
    "    signal=np.int16(audio_array * 32767)\n",
    "    ww_obj.writeframesraw(signal)"
   ]
  },
  {
   "cell_type": "markdown",
   "metadata": {},
   "source": [
    "* Función para la generación del directorio de ficheros del corpus:"
   ]
  },
  {
   "cell_type": "code",
   "execution_count": 9,
   "metadata": {},
   "outputs": [],
   "source": [
    "def generate_corpus_files(corpus_data, label_column, label_mapper, corpus_folder):\n",
    "\n",
    "    # Crear directorio principal\n",
    "    os.makedirs(corpus_folder, exist_ok=True)\n",
    "\n",
    "    # Almacenar ficheros de cada partición\n",
    "    for partition in [\"train\", \"validation\", \"test\"]:\n",
    "\n",
    "        # Crear subdirectorios para almacenar los audios\n",
    "        os.makedirs(f\"{corpus_folder}/{partition}/audios\", exist_ok=True)\n",
    "\n",
    "        # Crear fichero de anotaciones\n",
    "        with open(f\"{corpus_folder}/{partition}/annotations.csv\", \"w\") as f:\n",
    "            f.write(\"audio_file,label_id,label_name\\n\")\n",
    "\n",
    "        # Crear fichero de características\n",
    "        with open(f\"{corpus_folder}/{partition}/features.csv\", \"w\") as f:\n",
    "            f.write(\n",
    "                \"audio_file,label,mean_envelope,mean_rms,mean_zcr,\"\n",
    "                \"mean_ber,mean_spec_cent,mean_spec_bw,mean_chroma_stft,mean_rolloff,\"\n",
    "                \"mean_mfcc1,mean_mfcc2,mean_mfcc3,mean_mfcc4,mean_mfcc5,mean_mfcc6,mean_mfcc7,\"\n",
    "                \"mean_mfcc8,mean_mfcc9,mean_mfcc10,mean_mfcc11,mean_mfcc12,mean_mfcc13\\n\"\n",
    "            )\n",
    "        \n",
    "        features_file = f\"{corpus_folder}/{partition}/features.csv\"\n",
    "        annotations_file = f\"{corpus_folder}/{partition}/annotations.csv\"\n",
    "        audios_dir = f\"{corpus_folder}/{partition}/audios\"\n",
    "\n",
    "        for i, audio_data in enumerate(corpus_data[partition]):\n",
    "            \n",
    "            audio_file = f\"{audios_dir}/audio_{partition}_{i}.wav\"\n",
    "\n",
    "            # Guardar características en fichero CSV\n",
    "            store_features(audio_data, audio_file, label_column, features_file)\n",
    "\n",
    "            # Guardar anotación en fichero CSV\n",
    "            store_annotation(audio_data, label_column, label_mapper, audio_file, annotations_file)\n",
    "            \n",
    "            # Guardar el audio en formato WAV\n",
    "            store_audio_file(audio_data, audio_file)"
   ]
  },
  {
   "cell_type": "code",
   "execution_count": 10,
   "metadata": {},
   "outputs": [],
   "source": [
    "label_mapper = {\n",
    "        0: \"Classic\",\n",
    "        2: \"Symphony\",\n",
    "        3: \"Opera\",\n",
    "        4: \"Solo\",\n",
    "        5: \"Chamber\",\n",
    "        1: \"Non_classic\",\n",
    "        6: \"Pop\",\n",
    "        11: \"Pop_vocal_ballad\",\n",
    "        12: \"Adult_contemporary\",\n",
    "        13: \"Teen_pop\",\n",
    "        7: \"Dance_and_house\",\n",
    "        14: \"Contemporary_dance_pop\",\n",
    "        15: \"Dance_pop\",\n",
    "        8: \"Indie\",\n",
    "        16: \"Classic_indie_pop\",\n",
    "        17: \"Chamber_cabaret_and_art_pop\",\n",
    "        9: \"Soul_or_r_and_b\",\n",
    "        10: \"Rock\",\n",
    "        18: \"Adult_alternative_rock\",\n",
    "        19: \"Uplifting_anthemic_rock\",\n",
    "        20: \"Soft_rock\",\n",
    "        21: \"Acoustic_pop\"\n",
    "}"
   ]
  },
  {
   "cell_type": "markdown",
   "metadata": {},
   "source": [
    "* Carga de datos:"
   ]
  },
  {
   "cell_type": "code",
   "execution_count": 11,
   "metadata": {},
   "outputs": [],
   "source": [
    "generate_corpus_files(ccmusic_corpus, \"fst_level_label\", label_mapper, \"ccmusic\")"
   ]
  },
  {
   "cell_type": "code",
   "execution_count": 12,
   "metadata": {},
   "outputs": [
    {
     "ename": "KeyboardInterrupt",
     "evalue": "",
     "output_type": "error",
     "traceback": [
      "\u001b[1;31m---------------------------------------------------------------------------\u001b[0m",
      "\u001b[1;31mKeyboardInterrupt\u001b[0m                         Traceback (most recent call last)",
      "Cell \u001b[1;32mIn[12], line 1\u001b[0m\n\u001b[1;32m----> 1\u001b[0m \u001b[43mgenerate_corpus_files\u001b[49m\u001b[43m(\u001b[49m\u001b[43mccmusic_corpus\u001b[49m\u001b[43m,\u001b[49m\u001b[43m \u001b[49m\u001b[38;5;124;43m\"\u001b[39;49m\u001b[38;5;124;43msec_level_label\u001b[39;49m\u001b[38;5;124;43m\"\u001b[39;49m\u001b[43m,\u001b[49m\u001b[43m \u001b[49m\u001b[43mlabel_mapper\u001b[49m\u001b[43m,\u001b[49m\u001b[43m \u001b[49m\u001b[38;5;124;43m\"\u001b[39;49m\u001b[38;5;124;43mccmusic2\u001b[39;49m\u001b[38;5;124;43m\"\u001b[39;49m\u001b[43m)\u001b[49m\n",
      "Cell \u001b[1;32mIn[9], line 34\u001b[0m, in \u001b[0;36mgenerate_corpus_files\u001b[1;34m(corpus_data, label_column, label_mapper, corpus_folder)\u001b[0m\n\u001b[0;32m     31\u001b[0m audio_file \u001b[38;5;241m=\u001b[39m \u001b[38;5;124mf\u001b[39m\u001b[38;5;124m\"\u001b[39m\u001b[38;5;132;01m{\u001b[39;00maudios_dir\u001b[38;5;132;01m}\u001b[39;00m\u001b[38;5;124m/audio_\u001b[39m\u001b[38;5;132;01m{\u001b[39;00mpartition\u001b[38;5;132;01m}\u001b[39;00m\u001b[38;5;124m_\u001b[39m\u001b[38;5;132;01m{\u001b[39;00mi\u001b[38;5;132;01m}\u001b[39;00m\u001b[38;5;124m.wav\u001b[39m\u001b[38;5;124m\"\u001b[39m\n\u001b[0;32m     33\u001b[0m \u001b[38;5;66;03m# Guardar características en fichero CSV\u001b[39;00m\n\u001b[1;32m---> 34\u001b[0m \u001b[43mstore_features\u001b[49m\u001b[43m(\u001b[49m\u001b[43maudio_data\u001b[49m\u001b[43m,\u001b[49m\u001b[43m \u001b[49m\u001b[43maudio_file\u001b[49m\u001b[43m,\u001b[49m\u001b[43m \u001b[49m\u001b[43mlabel_column\u001b[49m\u001b[43m,\u001b[49m\u001b[43m \u001b[49m\u001b[43mfeatures_file\u001b[49m\u001b[43m)\u001b[49m\n\u001b[0;32m     36\u001b[0m \u001b[38;5;66;03m# Guardar anotación en fichero CSV\u001b[39;00m\n\u001b[0;32m     37\u001b[0m store_annotation(audio_data, label_column, label_mapper, audio_file, annotations_file)\n",
      "Cell \u001b[1;32mIn[6], line 19\u001b[0m, in \u001b[0;36mstore_features\u001b[1;34m(audio_data, audio_file, label_column, csv_file)\u001b[0m\n\u001b[0;32m     17\u001b[0m ber \u001b[38;5;241m=\u001b[39m calculate_ber(audio_array,\u001b[38;5;241m500\u001b[39m, audio_sr)\n\u001b[0;32m     18\u001b[0m spec_cent \u001b[38;5;241m=\u001b[39m librosa\u001b[38;5;241m.\u001b[39mfeature\u001b[38;5;241m.\u001b[39mspectral_centroid(y\u001b[38;5;241m=\u001b[39maudio_array, sr\u001b[38;5;241m=\u001b[39maudio_sr)\n\u001b[1;32m---> 19\u001b[0m spec_bw \u001b[38;5;241m=\u001b[39m \u001b[43mlibrosa\u001b[49m\u001b[38;5;241;43m.\u001b[39;49m\u001b[43mfeature\u001b[49m\u001b[38;5;241;43m.\u001b[39;49m\u001b[43mspectral_bandwidth\u001b[49m\u001b[43m(\u001b[49m\u001b[43my\u001b[49m\u001b[38;5;241;43m=\u001b[39;49m\u001b[43maudio_array\u001b[49m\u001b[43m,\u001b[49m\u001b[43m \u001b[49m\u001b[43msr\u001b[49m\u001b[38;5;241;43m=\u001b[39;49m\u001b[43maudio_sr\u001b[49m\u001b[43m)\u001b[49m\n\u001b[0;32m     21\u001b[0m chroma_stft \u001b[38;5;241m=\u001b[39m librosa\u001b[38;5;241m.\u001b[39mfeature\u001b[38;5;241m.\u001b[39mchroma_stft(y\u001b[38;5;241m=\u001b[39maudio_array, sr\u001b[38;5;241m=\u001b[39maudio_sr)\n\u001b[0;32m     22\u001b[0m rolloff \u001b[38;5;241m=\u001b[39m librosa\u001b[38;5;241m.\u001b[39mfeature\u001b[38;5;241m.\u001b[39mspectral_rolloff(y\u001b[38;5;241m=\u001b[39maudio_array, sr\u001b[38;5;241m=\u001b[39maudio_sr)\n",
      "File \u001b[1;32mc:\\Users\\Usuario\\anaconda3\\envs\\aine\\Lib\\site-packages\\librosa\\feature\\spectral.py:344\u001b[0m, in \u001b[0;36mspectral_bandwidth\u001b[1;34m(y, sr, S, n_fft, hop_length, win_length, window, center, pad_mode, freq, centroid, norm, p)\u001b[0m\n\u001b[0;32m    342\u001b[0m \u001b[38;5;66;03m# Column-normalize S\u001b[39;00m\n\u001b[0;32m    343\u001b[0m \u001b[38;5;28;01mif\u001b[39;00m norm:\n\u001b[1;32m--> 344\u001b[0m     S \u001b[38;5;241m=\u001b[39m \u001b[43mutil\u001b[49m\u001b[38;5;241;43m.\u001b[39;49m\u001b[43mnormalize\u001b[49m\u001b[43m(\u001b[49m\u001b[43mS\u001b[49m\u001b[43m,\u001b[49m\u001b[43m \u001b[49m\u001b[43mnorm\u001b[49m\u001b[38;5;241;43m=\u001b[39;49m\u001b[38;5;241;43m1\u001b[39;49m\u001b[43m,\u001b[49m\u001b[43m \u001b[49m\u001b[43maxis\u001b[49m\u001b[38;5;241;43m=\u001b[39;49m\u001b[38;5;241;43m-\u001b[39;49m\u001b[38;5;241;43m2\u001b[39;49m\u001b[43m)\u001b[49m\n\u001b[0;32m    346\u001b[0m bw: np\u001b[38;5;241m.\u001b[39mndarray \u001b[38;5;241m=\u001b[39m np\u001b[38;5;241m.\u001b[39msum(S \u001b[38;5;241m*\u001b[39m deviation\u001b[38;5;241m*\u001b[39m\u001b[38;5;241m*\u001b[39mp, axis\u001b[38;5;241m=\u001b[39m\u001b[38;5;241m-\u001b[39m\u001b[38;5;241m2\u001b[39m, keepdims\u001b[38;5;241m=\u001b[39m\u001b[38;5;28;01mTrue\u001b[39;00m) \u001b[38;5;241m*\u001b[39m\u001b[38;5;241m*\u001b[39m (\u001b[38;5;241m1.0\u001b[39m \u001b[38;5;241m/\u001b[39m p)\n\u001b[0;32m    347\u001b[0m \u001b[38;5;28;01mreturn\u001b[39;00m bw\n",
      "File \u001b[1;32mc:\\Users\\Usuario\\anaconda3\\envs\\aine\\Lib\\site-packages\\librosa\\util\\utils.py:1004\u001b[0m, in \u001b[0;36mnormalize\u001b[1;34m(S, norm, axis, threshold, fill)\u001b[0m\n\u001b[0;32m   1001\u001b[0m     length \u001b[38;5;241m=\u001b[39m np\u001b[38;5;241m.\u001b[39msum(mag \u001b[38;5;241m>\u001b[39m \u001b[38;5;241m0\u001b[39m, axis\u001b[38;5;241m=\u001b[39maxis, keepdims\u001b[38;5;241m=\u001b[39m\u001b[38;5;28;01mTrue\u001b[39;00m, dtype\u001b[38;5;241m=\u001b[39mmag\u001b[38;5;241m.\u001b[39mdtype)\n\u001b[0;32m   1003\u001b[0m \u001b[38;5;28;01melif\u001b[39;00m np\u001b[38;5;241m.\u001b[39missubdtype(\u001b[38;5;28mtype\u001b[39m(norm), np\u001b[38;5;241m.\u001b[39mnumber) \u001b[38;5;129;01mand\u001b[39;00m norm \u001b[38;5;241m>\u001b[39m \u001b[38;5;241m0\u001b[39m:\n\u001b[1;32m-> 1004\u001b[0m     length \u001b[38;5;241m=\u001b[39m \u001b[43mnp\u001b[49m\u001b[38;5;241;43m.\u001b[39;49m\u001b[43msum\u001b[49m\u001b[43m(\u001b[49m\u001b[43mmag\u001b[49m\u001b[38;5;241;43m*\u001b[39;49m\u001b[38;5;241;43m*\u001b[39;49m\u001b[43mnorm\u001b[49m\u001b[43m,\u001b[49m\u001b[43m \u001b[49m\u001b[43maxis\u001b[49m\u001b[38;5;241;43m=\u001b[39;49m\u001b[43maxis\u001b[49m\u001b[43m,\u001b[49m\u001b[43m \u001b[49m\u001b[43mkeepdims\u001b[49m\u001b[38;5;241;43m=\u001b[39;49m\u001b[38;5;28;43;01mTrue\u001b[39;49;00m\u001b[43m)\u001b[49m \u001b[38;5;241m*\u001b[39m\u001b[38;5;241m*\u001b[39m (\u001b[38;5;241m1.0\u001b[39m \u001b[38;5;241m/\u001b[39m norm)\n\u001b[0;32m   1006\u001b[0m     \u001b[38;5;28;01mif\u001b[39;00m axis \u001b[38;5;129;01mis\u001b[39;00m \u001b[38;5;28;01mNone\u001b[39;00m:\n\u001b[0;32m   1007\u001b[0m         fill_norm \u001b[38;5;241m=\u001b[39m mag\u001b[38;5;241m.\u001b[39msize \u001b[38;5;241m*\u001b[39m\u001b[38;5;241m*\u001b[39m (\u001b[38;5;241m-\u001b[39m\u001b[38;5;241m1.0\u001b[39m \u001b[38;5;241m/\u001b[39m norm)\n",
      "File \u001b[1;32mc:\\Users\\Usuario\\anaconda3\\envs\\aine\\Lib\\site-packages\\numpy\\core\\fromnumeric.py:2172\u001b[0m, in \u001b[0;36m_sum_dispatcher\u001b[1;34m(a, axis, dtype, out, keepdims, initial, where)\u001b[0m\n\u001b[0;32m   2102\u001b[0m \u001b[38;5;250m    \u001b[39m\u001b[38;5;124;03m\"\"\"\u001b[39;00m\n\u001b[0;32m   2103\u001b[0m \u001b[38;5;124;03m    Clip (limit) the values in an array.\u001b[39;00m\n\u001b[0;32m   2104\u001b[0m \n\u001b[1;32m   (...)\u001b[0m\n\u001b[0;32m   2167\u001b[0m \n\u001b[0;32m   2168\u001b[0m \u001b[38;5;124;03m    \"\"\"\u001b[39;00m\n\u001b[0;32m   2169\u001b[0m     \u001b[38;5;28;01mreturn\u001b[39;00m _wrapfunc(a, \u001b[38;5;124m'\u001b[39m\u001b[38;5;124mclip\u001b[39m\u001b[38;5;124m'\u001b[39m, a_min, a_max, out\u001b[38;5;241m=\u001b[39mout, \u001b[38;5;241m*\u001b[39m\u001b[38;5;241m*\u001b[39mkwargs)\n\u001b[1;32m-> 2172\u001b[0m \u001b[38;5;28;01mdef\u001b[39;00m \u001b[38;5;21m_sum_dispatcher\u001b[39m(a, axis\u001b[38;5;241m=\u001b[39m\u001b[38;5;28;01mNone\u001b[39;00m, dtype\u001b[38;5;241m=\u001b[39m\u001b[38;5;28;01mNone\u001b[39;00m, out\u001b[38;5;241m=\u001b[39m\u001b[38;5;28;01mNone\u001b[39;00m, keepdims\u001b[38;5;241m=\u001b[39m\u001b[38;5;28;01mNone\u001b[39;00m,\n\u001b[0;32m   2173\u001b[0m                     initial\u001b[38;5;241m=\u001b[39m\u001b[38;5;28;01mNone\u001b[39;00m, where\u001b[38;5;241m=\u001b[39m\u001b[38;5;28;01mNone\u001b[39;00m):\n\u001b[0;32m   2174\u001b[0m     \u001b[38;5;28;01mreturn\u001b[39;00m (a, out)\n\u001b[0;32m   2177\u001b[0m \u001b[38;5;129m@array_function_dispatch\u001b[39m(_sum_dispatcher)\n\u001b[0;32m   2178\u001b[0m \u001b[38;5;28;01mdef\u001b[39;00m \u001b[38;5;21msum\u001b[39m(a, axis\u001b[38;5;241m=\u001b[39m\u001b[38;5;28;01mNone\u001b[39;00m, dtype\u001b[38;5;241m=\u001b[39m\u001b[38;5;28;01mNone\u001b[39;00m, out\u001b[38;5;241m=\u001b[39m\u001b[38;5;28;01mNone\u001b[39;00m, keepdims\u001b[38;5;241m=\u001b[39mnp\u001b[38;5;241m.\u001b[39m_NoValue,\n\u001b[0;32m   2179\u001b[0m         initial\u001b[38;5;241m=\u001b[39mnp\u001b[38;5;241m.\u001b[39m_NoValue, where\u001b[38;5;241m=\u001b[39mnp\u001b[38;5;241m.\u001b[39m_NoValue):\n",
      "\u001b[1;31mKeyboardInterrupt\u001b[0m: "
     ]
    }
   ],
   "source": [
    "generate_corpus_files(ccmusic_corpus, \"sec_level_label\", label_mapper, \"ccmusic2\")"
   ]
  },
  {
   "cell_type": "code",
   "execution_count": null,
   "metadata": {},
   "outputs": [],
   "source": []
  }
 ],
 "metadata": {
  "kernelspec": {
   "display_name": "aine",
   "language": "python",
   "name": "python3"
  },
  "language_info": {
   "codemirror_mode": {
    "name": "ipython",
    "version": 3
   },
   "file_extension": ".py",
   "mimetype": "text/x-python",
   "name": "python",
   "nbconvert_exporter": "python",
   "pygments_lexer": "ipython3",
   "version": "3.12.2"
  }
 },
 "nbformat": 4,
 "nbformat_minor": 2
}

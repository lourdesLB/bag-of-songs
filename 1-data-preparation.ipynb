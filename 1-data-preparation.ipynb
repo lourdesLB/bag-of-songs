{
 "cells": [
  {
   "cell_type": "markdown",
   "metadata": {},
   "source": [
    "# Descarga y preparación del corpus de datos"
   ]
  },
  {
   "cell_type": "markdown",
   "metadata": {},
   "source": [
    "METER TEXTO EXPLICATIVO AQUÍ !!!!!!!!!!!!!!!!!!!!!"
   ]
  },
  {
   "cell_type": "markdown",
   "metadata": {},
   "source": [
    "## Importaciones"
   ]
  },
  {
   "cell_type": "code",
   "execution_count": 2,
   "metadata": {},
   "outputs": [],
   "source": [
    "import librosa\n",
    "\n",
    "import numpy as np\n",
    "import datasets\n",
    "\n",
    "from tqdm.auto import tqdm\n",
    "import os"
   ]
  },
  {
   "cell_type": "markdown",
   "metadata": {},
   "source": [
    "## Acceso al conjunto de datos de HuggingFace"
   ]
  },
  {
   "cell_type": "markdown",
   "metadata": {},
   "source": [
    "METER TEXTO EXPLICATIVO AQUÍ !!!!!!!!!!!!!!!!!!!!!!!!!! (Y EN TODOS LADOS)"
   ]
  },
  {
   "cell_type": "code",
   "execution_count": 3,
   "metadata": {},
   "outputs": [
    {
     "name": "stderr",
     "output_type": "stream",
     "text": [
      "c:\\Users\\Usuario\\anaconda3\\envs\\aine\\Lib\\site-packages\\datasets\\load.py:1461: FutureWarning: The repository for ccmusic-database/music_genre contains custom code which must be executed to correctly load the dataset. You can inspect the repository content at https://hf.co/datasets/ccmusic-database/music_genre\n",
      "You can avoid this message in future by passing the argument `trust_remote_code=True`.\n",
      "Passing `trust_remote_code=True` will be mandatory to load this dataset from the next major release of `datasets`.\n",
      "  warnings.warn(\n",
      "Downloading builder script: 100%|██████████| 9.37k/9.37k [00:00<?, ?B/s]\n",
      "Downloading readme: 100%|██████████| 7.81k/7.81k [00:00<?, ?B/s]\n",
      "Downloading data: 13.8GB [59:37, 3.85MB/s]\n",
      "Downloading data: 84.2MB [00:27, 3.09MB/s]\n",
      "Generating train split: 1370 examples [00:00, 3124.94 examples/s]\n",
      "Generating validation split: 171 examples [00:00, 4282.10 examples/s]\n",
      "Generating test split: 172 examples [00:00, 7334.86 examples/s]\n"
     ]
    }
   ],
   "source": [
    "ccmusic_corpus = datasets.load_dataset(\"ccmusic-database/music_genre\", name=\"default\")"
   ]
  },
  {
   "cell_type": "code",
   "execution_count": 4,
   "metadata": {},
   "outputs": [
    {
     "name": "stdout",
     "output_type": "stream",
     "text": [
      "DatasetDict({\n",
      "    train: Dataset({\n",
      "        features: ['audio', 'mel', 'fst_level_label', 'sec_level_label', 'thr_level_label'],\n",
      "        num_rows: 1370\n",
      "    })\n",
      "    validation: Dataset({\n",
      "        features: ['audio', 'mel', 'fst_level_label', 'sec_level_label', 'thr_level_label'],\n",
      "        num_rows: 171\n",
      "    })\n",
      "    test: Dataset({\n",
      "        features: ['audio', 'mel', 'fst_level_label', 'sec_level_label', 'thr_level_label'],\n",
      "        num_rows: 172\n",
      "    })\n",
      "})\n"
     ]
    }
   ],
   "source": [
    "print(ccmusic_corpus)"
   ]
  },
  {
   "cell_type": "code",
   "execution_count": 6,
   "metadata": {},
   "outputs": [
    {
     "name": "stdout",
     "output_type": "stream",
     "text": [
      "{'audio': {'path': 'C:\\\\Users\\\\Usuario\\\\.cache\\\\huggingface\\\\datasets\\\\downloads\\\\extracted\\\\9978c1aa27e41c465d1a0a120f523eae02b367b680fff33f401cee81e10d28c4\\\\audio\\\\2_non-classic\\\\11_rock\\\\21_Soft Rock\\\\6573efb8158239c2015abeaea6bb8f65.mp3', 'array': array([0., 0., 0., ..., 0., 0., 0.]), 'sampling_rate': 22050}, 'mel': <PIL.JpegImagePlugin.JpegImageFile image mode=RGB size=496x369 at 0x19C52808110>, 'fst_level_label': 1, 'sec_level_label': 8, 'thr_level_label': 14}\n"
     ]
    }
   ],
   "source": [
    "print(ccmusic_corpus['train'][0])"
   ]
  },
  {
   "cell_type": "markdown",
   "metadata": {},
   "source": [
    "## Generación de la estructura de directorios del corpus"
   ]
  },
  {
   "cell_type": "markdown",
   "metadata": {},
   "source": [
    "* Función para la generación de las características:"
   ]
  },
  {
   "cell_type": "code",
   "execution_count": null,
   "metadata": {},
   "outputs": [],
   "source": [
    "def store_features(audio_data, label_column, csv_file):\n",
    "\n",
    "    # Extraer la información del audio (array numpy, sample rate, label)\n",
    "    audio_array = audio_data[\"audio\"][\"array\"]\n",
    "    audio_sr = audio_data[\"audio\"][\"sr\"]\n",
    "    audio_label = audio_data[label_column]\n",
    "\n",
    "    # Extraer las características del audio \n",
    "\n",
    "    # Dominio temporal\n",
    "    # envelope = \n",
    "    rms = librosa.feature.rms(y=audio_array)\n",
    "    zcr = librosa.feature.zero_crossing_rate(audio_array)\n",
    "\n",
    "    # Dominio frecuencial\n",
    "    # ber =\n",
    "    spec_cent = librosa.feature.spectral_centroid(y=audio_array, sr=audio_sr)\n",
    "    spec_bw = librosa.feature.spectral_bandwidth(y=audio_array, sr=audio_sr)\n",
    "\n",
    "    chroma_stft = librosa.feature.chroma_stft(y=audio_array, sr=audio_sr)\n",
    "    rolloff = librosa.feature.spectral_rolloff(y=audio_array, sr=audio_sr)\n",
    "    mfcc = librosa.feature.mfcc(y=audio_array, sr=audio_sr)\n",
    "\n",
    "    # Generar fila para introducir en el CSV\n",
    "    row = f\"{audio_label},{np.mean(envelope)},{np.mean(rms)},{np.mean(zcr)},{np.mean(ber)},{np.mean(spec_cent)},{np.mean(spec_bw)},{np.mean(chroma_stft)},{np.mean(rolloff)}\"\n",
    "    for e in mfcc:\n",
    "        row += f\",{np.mean(e)}\"\n",
    "\n",
    "    # Escribir en el CSV\n",
    "    with open(csv_file, \"a\") as f:\n",
    "        f.write(row + \"\\n\")"
   ]
  },
  {
   "cell_type": "markdown",
   "metadata": {},
   "source": [
    "* Función para almacenar las anotaciones:"
   ]
  },
  {
   "cell_type": "code",
   "execution_count": null,
   "metadata": {},
   "outputs": [],
   "source": [
    "def store_annotation(file_name, label_id, label_name, csv_file):\n",
    "    with open(csv_file, \"a\") as f:\n",
    "        f.write(f\"{file_name},{label_id},{label_name}\\n\")"
   ]
  },
  {
   "cell_type": "markdown",
   "metadata": {},
   "source": [
    "* Función para la generación del fichero wav:"
   ]
  },
  {
   "cell_type": "code",
   "execution_count": null,
   "metadata": {},
   "outputs": [],
   "source": [
    "def store_audio_file(audio_data, audio_folder, label_column):\n"
   ]
  },
  {
   "cell_type": "markdown",
   "metadata": {},
   "source": [
    "* Función para la generación del directorio de ficheros del corpus:"
   ]
  },
  {
   "cell_type": "code",
   "execution_count": null,
   "metadata": {},
   "outputs": [],
   "source": [
    "def generate_corpus_files(corpus_data, label_column, corpus_folder):\n",
    "\n",
    "    # Crear directorio principal\n",
    "    os.makedirs(corpus_folder, exist_ok=True)\n",
    "\n",
    "    # Almacenar ficheros de cada partición\n",
    "    for partition in [\"train\", \"validation\", \"test\"]:\n",
    "\n",
    "        # Crear subdirectorios para almacenar los audios\n",
    "        os.makedirs(f\"{corpus_folder}/{partition}/audios\", exist_ok=True)\n",
    "\n",
    "        # Crear fichero de anotaciones\n",
    "        with open(f\"{corpus_folder}/{partition}/annotations.csv\", \"w\") as f:\n",
    "            f.write(\"audio_file,label_id,label_name\\n\")\n",
    "\n",
    "        # Crear fichero de características\n",
    "        with open(f\"{corpus_folder}/{partition}/features.csv\", \"w\") as f:\n",
    "            f.write(\"label,mean_envelope,mean_rms,mean_zcr,\\\n",
    "                    mean_ber,mean_spec_cent,mean_spec_bw,mean_chroma_stft,mean_rolloff,\\\n",
    "                    mean_mfcc1,mean_mfcc2,mean_mfcc3,mean_mfcc4,mean_mfcc5,mean_mfcc6,mean_mfcc7,mean_mfcc8,mean_mfcc9,mean_mfcc10,mean_mfcc11,mean_mfcc12,mean_mfcc13\\n\")\n",
    "            \n",
    "\n",
    "        for audio_data in corpus_data[partition]:\n",
    "\n",
    "            # Guardar características en fichero CSV\n",
    "            store_features(audio_data, label_column, f\"{corpus_folder}/{partition}/features.csv\")\n",
    "\n",
    "            # Guardar anotación en fichero CSV\n",
    "            store_annotation(audio_data, label_column, f\"{corpus_folder}/{partition}/annotations.csv\")\n",
    "            \n",
    "            # Guardar el audio en formato WAV\n",
    "            store_audio_file(audio_data, f\"{corpus_folder}/{partition}/audios\")"
   ]
  },
  {
   "cell_type": "markdown",
   "metadata": {},
   "source": [
    "* Carga de datos:"
   ]
  },
  {
   "cell_type": "code",
   "execution_count": null,
   "metadata": {},
   "outputs": [],
   "source": [
    "generate_corpus_files(ccmusic_corpus, \"fst_level_label\", \"ccmusic\")"
   ]
  },
  {
   "cell_type": "code",
   "execution_count": null,
   "metadata": {},
   "outputs": [],
   "source": [
    "generate_corpus_files(ccmusic_corpus, \"sec_level_label\", \"ccmusic2\")"
   ]
  }
 ],
 "metadata": {
  "kernelspec": {
   "display_name": "aine",
   "language": "python",
   "name": "python3"
  },
  "language_info": {
   "codemirror_mode": {
    "name": "ipython",
    "version": 3
   },
   "file_extension": ".py",
   "mimetype": "text/x-python",
   "name": "python",
   "nbconvert_exporter": "python",
   "pygments_lexer": "ipython3",
   "version": "3.12.2"
  }
 },
 "nbformat": 4,
 "nbformat_minor": 2
}
